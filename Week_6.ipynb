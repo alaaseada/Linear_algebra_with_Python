{
  "nbformat": 4,
  "nbformat_minor": 0,
  "metadata": {
    "colab": {
      "provenance": [],
      "collapsed_sections": [
        "9-iBqYzgUOkx",
        "iS7dhl64s_Sg"
      ],
      "toc_visible": true,
      "authorship_tag": "ABX9TyNXfcEhnqcWOL0EX85HDt/L",
      "include_colab_link": true
    },
    "kernelspec": {
      "name": "python3",
      "display_name": "Python 3"
    },
    "language_info": {
      "name": "python"
    }
  },
  "cells": [
    {
      "cell_type": "markdown",
      "metadata": {
        "id": "view-in-github",
        "colab_type": "text"
      },
      "source": [
        "<a href=\"https://colab.research.google.com/github/alaaseada/Linear_algebra_with_Python/blob/master/Week_6.ipynb\" target=\"_parent\"><img src=\"https://colab.research.google.com/assets/colab-badge.svg\" alt=\"Open In Colab\"/></a>"
      ]
    },
    {
      "cell_type": "markdown",
      "source": [
        "# Modulus"
      ],
      "metadata": {
        "id": "9-iBqYzgUOkx"
      }
    },
    {
      "cell_type": "code",
      "source": [
        "print(f'Reminder of 5 % 3 = {5 % 3}') # 5 is not a factor of 3\n",
        "print(f'Reminder of 6 % 3 = {6 % 3}') # 6 is a factor of 3"
      ],
      "metadata": {
        "colab": {
          "base_uri": "https://localhost:8080/"
        },
        "id": "M8Le53vpUShx",
        "outputId": "0f7f6ba7-d0cf-44aa-8832-0ae76a7a1850"
      },
      "execution_count": null,
      "outputs": [
        {
          "output_type": "stream",
          "name": "stdout",
          "text": [
            "Reminder of 5 % 3 = 2\n",
            "Reminder of 6 % 3 = 0\n"
          ]
        }
      ]
    },
    {
      "cell_type": "markdown",
      "source": [
        "When the reminder = 0, it means that the number is a factor. Otherwise, it is not."
      ],
      "metadata": {
        "id": "6cIY3ELcU7YR"
      }
    },
    {
      "cell_type": "markdown",
      "source": [
        "# Modulus Applications"
      ],
      "metadata": {
        "id": "iS7dhl64s_Sg"
      }
    },
    {
      "cell_type": "code",
      "source": [
        "# Find which numbers is a given number a factor of\n",
        "def get_factors(num):\n",
        "  factors = []\n",
        "  for item in range(1, num+1):\n",
        "    if num % item  == 0:\n",
        "      factors.append(item)\n",
        "  return factors\n",
        "\n",
        "\n",
        "\n",
        "num = int(input(\"Number = \"))\n",
        "factors = get_factors(num)\n",
        "msg = f'Factors of {num} are {get_factors(num)}' if len(factors) else 'No factors were found.'\n",
        "print(msg)"
      ],
      "metadata": {
        "colab": {
          "base_uri": "https://localhost:8080/"
        },
        "id": "z5EmVwVZVR8p",
        "outputId": "e8bbfb16-a8fb-42e3-d54c-f777f89b6f87"
      },
      "execution_count": null,
      "outputs": [
        {
          "output_type": "stream",
          "name": "stdout",
          "text": [
            "Number = 24\n",
            "Factors of 24 are [1, 2, 3, 4, 6, 8, 12, 24]\n"
          ]
        }
      ]
    },
    {
      "cell_type": "markdown",
      "source": [
        "Find the greatest factor"
      ],
      "metadata": {
        "id": "ssM40aME3_43"
      }
    },
    {
      "cell_type": "code",
      "source": [
        "def reduce_fraction(numerator, denominator):\n",
        "  factor = 1\n",
        "  for i in range(1, denominator+1):\n",
        "    if numerator % i == 0 and denominator % i == 0:\n",
        "      factor = i\n",
        "  print(factor)\n",
        "  print(f'Original fraction = {numerator}/{denominator}')\n",
        "  print(f'Reduced fraction = {int(numerator/factor)}/{int(denominator/factor)}')\n",
        "\n",
        "reduce_fraction(270, 90)"
      ],
      "metadata": {
        "colab": {
          "base_uri": "https://localhost:8080/"
        },
        "id": "35m9iptT4EBK",
        "outputId": "2313744f-fd3d-4e2f-8864-fdf0a1f511eb"
      },
      "execution_count": null,
      "outputs": [
        {
          "output_type": "stream",
          "name": "stdout",
          "text": [
            "90\n",
            "Original fraction = 270/90\n",
            "Reduced fraction = 3/1\n"
          ]
        }
      ]
    },
    {
      "cell_type": "markdown",
      "source": [
        "Decimal to fraction converter"
      ],
      "metadata": {
        "id": "zvq1q5k3_9xK"
      }
    },
    {
      "cell_type": "code",
      "source": [
        "def decimal_to_fraction():\n",
        "  digits = input(\"Insert the digit number to convert: \")\n",
        "  exponent = len(digits) - 1\n",
        "  denominator = 10 ** exponent\n",
        "  numerator = int(float(digits) * (10** exponent))\n",
        "  reduce_fraction(numerator, denominator)\n",
        "\n",
        "decimal_to_fraction()"
      ],
      "metadata": {
        "colab": {
          "base_uri": "https://localhost:8080/"
        },
        "id": "2COKWJbpBbkh",
        "outputId": "7cb5a34d-beaa-4476-c1c0-5a41eed31406"
      },
      "execution_count": null,
      "outputs": [
        {
          "output_type": "stream",
          "name": "stdout",
          "text": [
            "Insert the digit number to convert: 0.40\n",
            "200\n",
            "Original fraction = 400/1000\n",
            "Reduced fraction = 2/5\n"
          ]
        }
      ]
    },
    {
      "cell_type": "markdown",
      "source": [
        "Factoring Square Root"
      ],
      "metadata": {
        "id": "8GOYgCVgsfJy"
      }
    },
    {
      "cell_type": "code",
      "source": [
        "import sympy\n",
        "import math\n",
        "\n",
        "def factoring_square():\n",
        "  n = int(input(\"Insert the number to factor: \"))\n",
        "  max_factor = math.floor(math.sqrt(n)) + 1\n",
        "  for i in range (1, max_factor):\n",
        "    if n % (i ** 2) == 0:\n",
        "      squared_component = i\n",
        "  rooted_component = int(n / (squared_component**2))\n",
        "  output = squared_component * sympy.sqrt(rooted_component)\n",
        "  return output\n",
        "\n",
        "output = factoring_square()\n",
        "output"
      ],
      "metadata": {
        "id": "tZDxz8VmXi-k",
        "colab": {
          "base_uri": "https://localhost:8080/",
          "height": 56
        },
        "outputId": "53e51a16-921c-4606-eb60-9dc391248724"
      },
      "execution_count": null,
      "outputs": [
        {
          "name": "stdout",
          "output_type": "stream",
          "text": [
            "Insert the number to factor: 1200\n"
          ]
        },
        {
          "output_type": "execute_result",
          "data": {
            "text/plain": [
              "20*sqrt(3)"
            ],
            "text/latex": "$\\displaystyle 20 \\sqrt{3}$"
          },
          "metadata": {},
          "execution_count": 20
        }
      ]
    },
    {
      "cell_type": "markdown",
      "source": [
        "# Extras"
      ],
      "metadata": {
        "id": "kchRacfAsxY3"
      }
    },
    {
      "cell_type": "markdown",
      "source": [
        "Prime Numbers"
      ],
      "metadata": {
        "id": "C3fRG8421FiK"
      }
    },
    {
      "cell_type": "code",
      "source": [
        "def get_prime_numbers():\n",
        "  num_range = int(input(\"Find prime numbers in range of: \"))\n",
        "  prime_nums = []\n",
        "  not_prime = False\n",
        "  for num in range(1, num_range + 1):\n",
        "    for i in range(2, num):\n",
        "      if num % i == 0:\n",
        "        not_prime = True\n",
        "        break\n",
        "    if not_prime:\n",
        "      not_prime = False\n",
        "      continue\n",
        "    prime_nums.append(num)\n",
        "  return prime_nums\n",
        "print(get_prime_numbers())\n"
      ],
      "metadata": {
        "colab": {
          "base_uri": "https://localhost:8080/"
        },
        "id": "6q4YMBEds0mP",
        "outputId": "becf54e1-c58e-4daa-fee5-b53a18fd2fce"
      },
      "execution_count": null,
      "outputs": [
        {
          "output_type": "stream",
          "name": "stdout",
          "text": [
            "Find prime numbers in range of: 12\n",
            "[1, 2, 3, 5, 7, 11]\n"
          ]
        }
      ]
    },
    {
      "cell_type": "markdown",
      "source": [
        "Reciprocals"
      ],
      "metadata": {
        "id": "Ll6S0VZ_7Fgf"
      }
    },
    {
      "cell_type": "code",
      "source": [
        "def get_rational_value(fraction):\n",
        "  exponent = len(fraction) - 1\n",
        "  fraction = float(fraction)\n",
        "  numerator = fraction * 10 ** exponent\n",
        "  denominator = 10 ** exponent\n",
        "  return get_reduced_value(numerator, denominator)\n",
        "\n",
        "\n",
        "def get_reduced_value(numerator, denominator):\n",
        "  factor = 1\n",
        "  for i in range(1, denominator + 1):\n",
        "    if numerator % i == 0 and denominator % i == 0:\n",
        "      factor = i\n",
        "  return [int(numerator / factor), int(denominator / factor)]\n",
        "\n",
        "\n",
        "def get_reciprocal():\n",
        "  fraction = input(\"Enter your fraction: \")\n",
        "  if fraction == '0':\n",
        "    print(\"Error: The reciprocal is divided by zero.\")\n",
        "    return\n",
        "  numerator, denominator = get_rational_value(fraction)\n",
        "  if numerator == 1:\n",
        "    print(f'Reciprocal = {denominator}')\n",
        "  else:\n",
        "    print(f'Reciprocal = {denominator} / {numerator}')\n",
        "\n",
        "get_reciprocal()"
      ],
      "metadata": {
        "colab": {
          "base_uri": "https://localhost:8080/"
        },
        "id": "ozhoNBmd7JvJ",
        "outputId": "271761ca-f1a2-4174-d082-c612ebbf9615"
      },
      "execution_count": null,
      "outputs": [
        {
          "output_type": "stream",
          "name": "stdout",
          "text": [
            "Enter your fraction: 5\n",
            "Reciprocal = 1 / 5\n"
          ]
        }
      ]
    },
    {
      "cell_type": "markdown",
      "source": [
        "Finding Square Factors"
      ],
      "metadata": {
        "id": "cuHUNrkxL9E3"
      }
    },
    {
      "cell_type": "code",
      "source": [
        "def get_square_factor():\n",
        "  n = int(input(\"Enter the number: \"))\n",
        "  greatest_square_factor = 1\n",
        "  limit = math.floor(math.sqrt(n)) + 1\n",
        "  for num in range(2, limit):\n",
        "    if n % (num ** 2) == 0:\n",
        "      greatest_square_factor = num\n",
        "  return greatest_square_factor**2\n",
        "\n",
        "print(f'Greatest square factor = {get_square_factor()}')"
      ],
      "metadata": {
        "colab": {
          "base_uri": "https://localhost:8080/"
        },
        "id": "_6QYSe4gMCIV",
        "outputId": "7f9b51cd-b3c9-46ca-bca4-29ee5fc42e00"
      },
      "execution_count": null,
      "outputs": [
        {
          "output_type": "stream",
          "name": "stdout",
          "text": [
            "Enter the number: 32\n",
            "Greatest square factor = 16\n"
          ]
        }
      ]
    },
    {
      "cell_type": "code",
      "source": [
        "import math\n",
        "\n",
        "math.sqrt(32)"
      ],
      "metadata": {
        "colab": {
          "base_uri": "https://localhost:8080/"
        },
        "id": "wLsIY3NtOD99",
        "outputId": "300621bf-540d-4b55-ea04-b311f0c39b57"
      },
      "execution_count": null,
      "outputs": [
        {
          "output_type": "execute_result",
          "data": {
            "text/plain": [
              "5.656854249492381"
            ]
          },
          "metadata": {},
          "execution_count": 52
        }
      ]
    }
  ]
}