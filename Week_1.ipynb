{
  "nbformat": 4,
  "nbformat_minor": 0,
  "metadata": {
    "colab": {
      "provenance": [],
      "toc_visible": true,
      "authorship_tag": "ABX9TyNdHJdcxYbvrKp4wx/MawMn",
      "include_colab_link": true
    },
    "kernelspec": {
      "name": "python3",
      "display_name": "Python 3"
    },
    "language_info": {
      "name": "python"
    }
  },
  "cells": [
    {
      "cell_type": "markdown",
      "metadata": {
        "id": "view-in-github",
        "colab_type": "text"
      },
      "source": [
        "<a href=\"https://colab.research.google.com/github/alaaseada/Linear_algebra_with_Python/blob/master/Week_1.ipynb\" target=\"_parent\"><img src=\"https://colab.research.google.com/assets/colab-badge.svg\" alt=\"Open In Colab\"/></a>"
      ]
    },
    {
      "cell_type": "markdown",
      "source": [
        "# Ratios, Proportions, and conversions"
      ],
      "metadata": {
        "id": "KyeDA8HFqspK"
      }
    },
    {
      "cell_type": "markdown",
      "source": [
        "x1/y1 = x2/y2 (proportion)"
      ],
      "metadata": {
        "id": "Rwk1z6u5rinZ"
      }
    },
    {
      "cell_type": "code",
      "execution_count": null,
      "metadata": {
        "colab": {
          "base_uri": "https://localhost:8080/"
        },
        "id": "1JKl3pYjnmc-",
        "outputId": "8e2a1061-f585-4f74-8ed6-8615dfb72c93"
      },
      "outputs": [
        {
          "output_type": "stream",
          "name": "stdout",
          "text": [
            "a, b, c, d: 2.5, 3,    60,   y\n",
            "   y = 72.0\n"
          ]
        }
      ],
      "source": [
        "vars = input(\"a, b, c, d: \").split(\",\")\n",
        "if len(vars) == 4:\n",
        "  var_idx = -1\n",
        "  n_unknows = 0\n",
        "\n",
        "  for i, item in enumerate(vars):\n",
        "    item = item.strip()\n",
        "    if item.isalpha():\n",
        "      var_idx=i\n",
        "      n_unknows +=1\n",
        "    elif item.isdecimal():\n",
        "      vars[i] = int(item)\n",
        "    elif isinstance(eval(item), float):\n",
        "      vars[i] = float(item)\n",
        "\n",
        "  if n_unknows > 1:\n",
        "    print(\"Cannot solve a problem with more than 1 unkown variable.\")\n",
        "  else:\n",
        "    try:\n",
        "      if var_idx in [0, 3]:\n",
        "        denom = vars[0] if var_idx == 3 else vars[3]\n",
        "        value = vars[1] * vars[2] / denom\n",
        "      elif var_idx in [1, 2]:\n",
        "        denom = vars[1] if var_idx == 2 else vars[2]\n",
        "        value = vars[0] * vars[3] / denom\n",
        "    except:\n",
        "      value = \"Cannot be calculated\"\n",
        "    print(f'{vars[var_idx]} = {round(value,2)}')\n",
        "else:\n",
        "  print(\"Sorry, only 4 values are needed.\")"
      ]
    },
    {
      "cell_type": "markdown",
      "source": [
        "# Solving Linear Equations"
      ],
      "metadata": {
        "id": "zZovMpNjXIzT"
      }
    },
    {
      "cell_type": "code",
      "source": [
        "from sympy import symbols\n",
        "from sympy.solvers import solve"
      ],
      "metadata": {
        "id": "pdlwu5SRAnLq"
      },
      "execution_count": null,
      "outputs": []
    },
    {
      "cell_type": "code",
      "source": [
        "x = symbols('x')\n",
        "eq = input('Solve for x this equation 0 = ')\n",
        "solution = solve(eq, x)\n",
        "for item in solution:\n",
        "  print(f'x = {item}')"
      ],
      "metadata": {
        "colab": {
          "base_uri": "https://localhost:8080/"
        },
        "id": "PlvwsKzcXY68",
        "outputId": "735d658d-3140-4c8f-9512-feee52e9c9cc"
      },
      "execution_count": null,
      "outputs": [
        {
          "output_type": "stream",
          "name": "stdout",
          "text": [
            "Solve for x this equation 0 = x ** 3 + x ** 2 -32 * x - 60\n",
            "<class 'list'>\n",
            "x = -5\n",
            "x = -2\n",
            "x = 6\n"
          ]
        }
      ]
    },
    {
      "cell_type": "code",
      "source": [],
      "metadata": {
        "id": "_4TVJEKIgccr"
      },
      "execution_count": null,
      "outputs": []
    },
    {
      "cell_type": "code",
      "source": [
        "from sympy import Eq, var"
      ],
      "metadata": {
        "id": "nkTW-AoGgceW"
      },
      "execution_count": null,
      "outputs": []
    },
    {
      "cell_type": "code",
      "source": [
        "var('x y')\n",
        "lhs = x + 5 * y - 2\n",
        "eq = Eq(lhs , 0)\n",
        "solve(eq, x)"
      ],
      "metadata": {
        "colab": {
          "base_uri": "https://localhost:8080/"
        },
        "id": "wlZwl2ahg3Oc",
        "outputId": "21c77f65-0d94-44b3-ca7b-c1e293213be1"
      },
      "execution_count": null,
      "outputs": [
        {
          "output_type": "execute_result",
          "data": {
            "text/plain": [
              "[2 - 5*y]"
            ]
          },
          "metadata": {},
          "execution_count": 77
        }
      ]
    },
    {
      "cell_type": "code",
      "source": [
        "from sympy import factor"
      ],
      "metadata": {
        "id": "JdhVj6R0ngip"
      },
      "execution_count": null,
      "outputs": []
    },
    {
      "cell_type": "code",
      "source": [
        "eq = x ** 3 - 2* x ** 2 - 5 * x + 6\n",
        "factor(eq)"
      ],
      "metadata": {
        "colab": {
          "base_uri": "https://localhost:8080/",
          "height": 38
        },
        "id": "UnHeUCo5nuFL",
        "outputId": "d92eefb2-9b88-4862-9553-210df0158357"
      },
      "execution_count": null,
      "outputs": [
        {
          "output_type": "execute_result",
          "data": {
            "text/plain": [
              "(x - 3)*(x - 1)*(x + 2)"
            ],
            "text/latex": "$\\displaystyle \\left(x - 3\\right) \\left(x - 1\\right) \\left(x + 2\\right)$"
          },
          "metadata": {},
          "execution_count": 83
        }
      ]
    },
    {
      "cell_type": "markdown",
      "source": [
        "# Functions"
      ],
      "metadata": {
        "id": "RwzxBzZnq6Za"
      }
    },
    {
      "cell_type": "markdown",
      "source": [
        "Convert a string to float"
      ],
      "metadata": {
        "id": "ffYV9JX6CWe3"
      }
    },
    {
      "cell_type": "code",
      "source": [
        "val = eval(input('Fraction = '))\n",
        "print(val)"
      ],
      "metadata": {
        "colab": {
          "base_uri": "https://localhost:8080/"
        },
        "id": "xtPxCBG1rBjl",
        "outputId": "1d58903d-75ae-4197-9c5d-249492b816a8"
      },
      "execution_count": null,
      "outputs": [
        {
          "output_type": "stream",
          "name": "stdout",
          "text": [
            "Fraction = 3/4\n",
            "0.75\n"
          ]
        }
      ]
    },
    {
      "cell_type": "code",
      "source": [
        "def string_frac(in_str):\n",
        "  if \"/\" in in_str:\n",
        "    [nom, denom] = in_str.split('/')\n",
        "    return (int(nom) / int(denom))\n",
        "  else:\n",
        "    return float(in_str)"
      ],
      "metadata": {
        "id": "wCZZyHPeCbs6"
      },
      "execution_count": null,
      "outputs": []
    },
    {
      "cell_type": "code",
      "source": [
        "val = input('Fraction = ')\n",
        "print(string_frac(val))"
      ],
      "metadata": {
        "colab": {
          "base_uri": "https://localhost:8080/"
        },
        "id": "T3xJOPbfCjeR",
        "outputId": "726bc2fa-b467-4085-f82b-5d05cc388dfd"
      },
      "execution_count": null,
      "outputs": [
        {
          "output_type": "stream",
          "name": "stdout",
          "text": [
            "Fraction = 0.2\n",
            "0.2\n"
          ]
        }
      ]
    },
    {
      "cell_type": "markdown",
      "source": [
        "Solve a first degree equation"
      ],
      "metadata": {
        "id": "Pb7Gqtx-DoSl"
      }
    },
    {
      "cell_type": "code",
      "source": [
        "def solve_eq():\n",
        "  from random import randint\n",
        "  a = randint(1, 11)\n",
        "  b = randint(2, 24)\n",
        "  equation = f'{a}x = {b}'\n",
        "  print(equation)\n",
        "  answer_in = input(\"x = \")\n",
        "  answer = b / a\n",
        "  if string_frac(answer_in) == answer:\n",
        "    print(\"Yay! you got this right\")\n",
        "  else:\n",
        "    print('Ohoh, not really, try again')"
      ],
      "metadata": {
        "id": "bXJg_8qqDm1r"
      },
      "execution_count": null,
      "outputs": []
    },
    {
      "cell_type": "code",
      "source": [
        "solve_eq()"
      ],
      "metadata": {
        "colab": {
          "base_uri": "https://localhost:8080/"
        },
        "id": "OVam4l2FEnhI",
        "outputId": "26ecfbdb-f5c2-4d0b-926c-88056fdde92b"
      },
      "execution_count": null,
      "outputs": [
        {
          "output_type": "stream",
          "name": "stdout",
          "text": [
            "9x = 18\n",
            "x = 14\n",
            "Ohoh, not really, try again\n"
          ]
        }
      ]
    },
    {
      "cell_type": "markdown",
      "source": [
        "# Fractions and Decimals"
      ],
      "metadata": {
        "id": "0eg5CM3QHWyW"
      }
    },
    {
      "cell_type": "code",
      "source": [
        "def decimal_to_frac():\n",
        "  decimal = input(\"Decimal number= \")\n",
        "  decimal_length = len(decimal) - 1\n",
        "  number = float(decimal)\n",
        "  numerator = number * 10** decimal_length\n",
        "  denomirator = 10** decimal_length\n",
        "  print(f'Decimal= {decimal}')\n",
        "  print (f'Fraction = {numerator} / {denomirator}')\n",
        "  print(f'Percentage= {round(number * 100, 2)}%')"
      ],
      "metadata": {
        "id": "gmR8Xjx7Hck8"
      },
      "execution_count": null,
      "outputs": []
    },
    {
      "cell_type": "code",
      "source": [
        "decimal_to_frac()"
      ],
      "metadata": {
        "colab": {
          "base_uri": "https://localhost:8080/"
        },
        "id": "WehaMvzjKEj_",
        "outputId": "026b92f0-67c2-407d-df23-a46bf14e6afd"
      },
      "execution_count": null,
      "outputs": [
        {
          "output_type": "stream",
          "name": "stdout",
          "text": [
            "Decimal number= .125\n",
            "Decimal= .125\n",
            "Fraction = 125.0 / 1000\n",
            "Percentage= 12.5%\n"
          ]
        }
      ]
    },
    {
      "cell_type": "code",
      "source": [],
      "metadata": {
        "id": "8Tjoe5PRKEim"
      },
      "execution_count": null,
      "outputs": []
    }
  ]
}